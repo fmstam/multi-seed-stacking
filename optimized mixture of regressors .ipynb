{
 "cells": [
  {
   "cell_type": "markdown",
   "metadata": {},
   "source": [
    "Welcome to the **[30 Days of ML competition](https://www.kaggle.com/c/30-days-of-ml/overview)**!  In this notebook, you'll learn how to make your first submission.\n",
    "\n",
    "Before getting started, make your own editable copy of this notebook by clicking on the **Copy and Edit** button.\n",
    "\n",
    "# Step 1: Import helpful libraries\n",
    "\n",
    "We begin by importing the libraries we'll need.  Some of them will be familiar from the **[Intro to Machine Learning](https://www.kaggle.com/learn/intro-to-machine-learning)** course and the **[Intermediate Machine Learning](https://www.kaggle.com/learn/intermediate-machine-learning)** course."
   ]
  },
  {
   "cell_type": "code",
   "execution_count": null,
   "metadata": {
    "execution": {
     "iopub.execute_input": "2021-08-16T22:55:09.725137Z",
     "iopub.status.busy": "2021-08-16T22:55:09.724708Z",
     "iopub.status.idle": "2021-08-16T22:55:09.73297Z",
     "shell.execute_reply": "2021-08-16T22:55:09.731277Z",
     "shell.execute_reply.started": "2021-08-16T22:55:09.725102Z"
    }
   },
   "outputs": [],
   "source": [
    "# Familiar imports\n",
    "import numpy as np\n",
    "import pandas as pd\n",
    "import seaborn as sns\n",
    "import matplotlib.pyplot as plt\n",
    "\n",
    "import os\n",
    "import glob\n",
    "from datetime import datetime\n",
    "from pathlib import Path\n",
    "\n",
    "from scipy import stats\n",
    "from scipy.stats import norm, skew #for some statistics\n",
    "from scipy.special import boxcox1p\n",
    "\n",
    "\n",
    "\n",
    "# For ordinal encoding categorical variables, splitting data, pipeline, and so on\n",
    "from sklearn.preprocessing import OrdinalEncoder, LabelEncoder, PowerTransformer, StandardScaler, MinMaxScaler, RobustScaler, PolynomialFeatures\n",
    "from sklearn.model_selection import train_test_split, KFold, cross_val_score \n",
    "from sklearn.pipeline import make_pipeline\n",
    "\n",
    "# For training random forest model\n",
    "from sklearn.linear_model import ElasticNet, Lasso\n",
    "from sklearn.neighbors import KNeighborsRegressor \n",
    "from sklearn.kernel_ridge import KernelRidge\n",
    "from sklearn.ensemble import RandomForestRegressor, ExtraTreesRegressor, GradientBoostingRegressor\n",
    "from xgboost import XGBRegressor\n",
    "from lightgbm import LGBMRegressor\n",
    "from catboost import CatBoostRegressor\n",
    "\n",
    "# base\n",
    "from sklearn.base import BaseEstimator, RegressorMixin, TransformerMixin, clone\n",
    "\n",
    "\n",
    "from sklearn.metrics import mean_squared_error\n"
   ]
  },
  {
   "cell_type": "code",
   "execution_count": null,
   "metadata": {},
   "outputs": [],
   "source": [
    "pd.set_option(\"display.max_columns\", 100)"
   ]
  },
  {
   "cell_type": "markdown",
   "metadata": {},
   "source": [
    "# Step 2: Load the data\n",
    "\n",
    "Next, we'll load the training and test data.  \n",
    "\n",
    "We set `index_col=0` in the code cell below to use the `id` column to index the DataFrame.  (*If you're not sure how this works, try temporarily removing `index_col=0` and see how it changes the result.*)"
   ]
  },
  {
   "cell_type": "code",
   "execution_count": null,
   "metadata": {
    "execution": {
     "iopub.execute_input": "2021-08-16T22:55:10.592447Z",
     "iopub.status.busy": "2021-08-16T22:55:10.591978Z",
     "iopub.status.idle": "2021-08-16T22:55:14.91458Z",
     "shell.execute_reply": "2021-08-16T22:55:14.912747Z",
     "shell.execute_reply.started": "2021-08-16T22:55:10.592407Z"
    }
   },
   "outputs": [],
   "source": [
    "# Load the training data\n",
    "train = pd.read_csv(\"train.csv\", index_col=0)\n",
    "test = pd.read_csv(\"test.csv\", index_col=0)\n",
    "\n",
    "# Preview the data\n",
    "train.head()\n",
    "train.describe().T"
   ]
  },
  {
   "cell_type": "markdown",
   "metadata": {},
   "source": [
    "The next code cell separates the target (which we assign to `y`) from the training features (which we assign to `features`)."
   ]
  },
  {
   "cell_type": "code",
   "execution_count": null,
   "metadata": {
    "execution": {
     "iopub.execute_input": "2021-08-16T22:55:14.916952Z",
     "iopub.status.busy": "2021-08-16T22:55:14.916515Z",
     "iopub.status.idle": "2021-08-16T22:55:14.984676Z",
     "shell.execute_reply": "2021-08-16T22:55:14.98316Z",
     "shell.execute_reply.started": "2021-08-16T22:55:14.916916Z"
    }
   },
   "outputs": [],
   "source": [
    "# Separate target from features\n",
    "y = train['target']\n",
    "features = train.drop(['target'], axis=1)\n",
    "\n",
    "# Preview features\n",
    "features.head().T"
   ]
  },
  {
   "cell_type": "markdown",
   "metadata": {},
   "source": [
    "# Step 3: Prepare the data\n",
    "\n",
    "Next, we'll need to handle the categorical columns (`cat0`, `cat1`, ... `cat9`).  \n",
    "\n",
    "In the **[Categorical Variables lesson](https://www.kaggle.com/alexisbcook/categorical-variables)** in the Intermediate Machine Learning course, you learned several different ways to encode categorical variables in a dataset.  In this notebook, we'll use ordinal encoding and save our encoded features as new variables `X` and `X_test`."
   ]
  },
  {
   "cell_type": "code",
   "execution_count": null,
   "metadata": {},
   "outputs": [],
   "source": [
    "def add_poly_features(train, test, cols=None, concate=True, poly_degree=2):\n",
    "    \n",
    "    if cols is  None:\n",
    "        cols = train.columns\n",
    "     \n",
    "    columns = train[cols].columns\n",
    "    poly = PolynomialFeatures(poly_degree)\n",
    "    poly_train = pd.DataFrame(poly.fit_transform(train[cols]), index=train.index)\n",
    "    poly_test = pd.DataFrame(poly.transform(test[cols]), index=test.index)\n",
    "    \n",
    "    # stamp these columns\n",
    "    poly_train = poly_train.add_prefix('poly_')\n",
    "    poly_test = poly_test.add_prefix('poly_')\n",
    "    \n",
    "    if concate:\n",
    "        train = pd.concat([train, poly_train], axis=1)\n",
    "        test = pd.concat([test, poly_test], axis=1)\n",
    "        \n",
    "    return train, test\n",
    "\n"
   ]
  },
  {
   "cell_type": "code",
   "execution_count": null,
   "metadata": {
    "execution": {
     "iopub.execute_input": "2021-08-16T22:55:17.707975Z",
     "iopub.status.busy": "2021-08-16T22:55:17.7076Z",
     "iopub.status.idle": "2021-08-16T22:55:19.670568Z",
     "shell.execute_reply": "2021-08-16T22:55:19.669219Z",
     "shell.execute_reply.started": "2021-08-16T22:55:17.707941Z"
    }
   },
   "outputs": [],
   "source": [
    "\n",
    "# List of categorical columns\n",
    "object_cols_long = [col for col in features.columns if 'cat' in col]\n",
    "cont_cols = [col for col in features.columns if 'con' in col]\n",
    "\n",
    "X = features.copy()\n",
    "X_test = test.copy()\n",
    "\n",
    "# cols = ['cont0', 'cont3', 'cont9']\n",
    "# add poly features\n",
    "# X, X_test = add_poly_features(X, X_test, cols)\n",
    "\n",
    "\n"
   ]
  },
  {
   "cell_type": "markdown",
   "metadata": {},
   "source": [
    "Next, we break off a validation set from the training data."
   ]
  },
  {
   "cell_type": "code",
   "execution_count": null,
   "metadata": {
    "execution": {
     "iopub.execute_input": "2021-08-16T22:55:29.309502Z",
     "iopub.status.busy": "2021-08-16T22:55:29.309037Z",
     "iopub.status.idle": "2021-08-16T22:55:29.774149Z",
     "shell.execute_reply": "2021-08-16T22:55:29.772853Z",
     "shell.execute_reply.started": "2021-08-16T22:55:29.309468Z"
    }
   },
   "outputs": [],
   "source": [
    "X_train, X_valid, y_train, y_valid = train_test_split(X, y, random_state=0)"
   ]
  },
  {
   "cell_type": "code",
   "execution_count": null,
   "metadata": {},
   "outputs": [],
   "source": [
    "X_train.shape"
   ]
  },
  {
   "cell_type": "markdown",
   "metadata": {},
   "source": [
    "### Transformers"
   ]
  },
  {
   "cell_type": "code",
   "execution_count": null,
   "metadata": {},
   "outputs": [],
   "source": [
    "# transfomration: scaling, encoding, new features, ... etc\n",
    "# helpers\n",
    "# map columns to indexes \n",
    "def get_columns\n",
    "class ML30Transformer(BaseEstimator, TransformerMixin):\n",
    "    def __init__(self, \n",
    "                 cat_columns=None,\n",
    "                 cont_columns=None,\n",
    "                 target_column=None,\n",
    "                 scaler=StandardScaler(),\n",
    "                 normalizer=None,\n",
    "                 cont_encoder=OrdinalEncoder()\n",
    "                 target_encoder=None):\n",
    "        \n",
    "        self.cat_columns = cat_columns\n",
    "        self.cont_columns = cont_columns\n",
    "        self.target_column = target_column\n",
    "        self.scaler = scaler\n",
    "        self.normalizer = normalizer\n",
    "        self.cont_encoder = cont_encoder\n",
    "    \n",
    "    def fit(X):\n",
    "        \n",
    "        self.cont_encoder.fit(X[self.cont_columns])\n",
    "        return self\n",
    "    \n",
    "    def transform(X):\n",
    "        \n",
    "        return self.cont_encoder.transform(X[self.cont_columns])\n",
    "        \n",
    "        \n",
    "        \n",
    "        "
   ]
  },
  {
   "cell_type": "code",
   "execution_count": null,
   "metadata": {},
   "outputs": [],
   "source": [
    "# encoding\n",
    "#ml30_transformer = ML30Transformer(cont_columns=X.columns.get_indexer(cont_cols))\n",
    "#X[object_cols_long] = ml30_transformer.fit_transform(X[object_cols_long])\n",
    "#X_test[object_cols_long] = ml30_transformer.transform(X_test[object_cols_long])"
   ]
  },
  {
   "cell_type": "markdown",
   "metadata": {},
   "source": [
    "# Step 4.1: Predict using Generalized Stacking\n"
   ]
  },
  {
   "cell_type": "code",
   "execution_count": null,
   "metadata": {
    "code_folding": []
   },
   "outputs": [],
   "source": [
    "\n",
    "# helpers and wrappers\n",
    "\n",
    "## helper fucntions\n",
    "def store_oof_predictions(model_name,\n",
    "                          valid_predictions,\n",
    "                          test_predictions,\n",
    "                          X_train,\n",
    "                          X_test,\n",
    "                          stacking_level,\n",
    "                          output_folder,\n",
    "                          n_folds, \n",
    "                          random_state):    \n",
    "    \n",
    "    \"\"\"\n",
    "    Store oof predictions into files.\n",
    "    It is safe not to use defaults for this helper to make sure \n",
    "    we are storing the right experiement. \n",
    "    \"\"\"\n",
    "    \n",
    "    if test_predictions is not None:\n",
    "        test_df = pd.DataFrame({'Id': X_test.index,\n",
    "                       model_name: test_predictions})\n",
    "        test_df.to_csv( f'{output_folder}{os.sep}{model_name}_{n_folds}_test.csv',\n",
    "                       index=False)\n",
    "\n",
    "    if valid_predictions is not None:\n",
    "        valid_df = pd.DataFrame({'Id': X_train.index,\n",
    "                           model_name: valid_predictions})\n",
    "        valid_df.to_csv(f'{output_folder}{os.sep}{model_name}_{n_folds}_valid.csv', \n",
    "                        index=False)\n",
    "    \n",
    "    \n",
    "def read_oof_predictions(pattern, \n",
    "                     models_names, \n",
    "                     index='id'):    \n",
    "    \"\"\"\n",
    "    Read files according the pattern in their name\n",
    "    it returns a dataframe where each column is the prediction of a model\n",
    "    \"\"\"\n",
    "    li = [] \n",
    "    for f in glob.glob(pattern):\n",
    "        file_name = f.split(os.sep)[-1] # get file name only\n",
    "        print(file_name)\n",
    "        if file_name.lower().startswith(tuple(s.lower() for s in models_names)): # get only required models\n",
    "            df = pd.read_csv(f, index_col=0)\n",
    "            li.append(df)\n",
    "    \n",
    "                                   \n",
    "    return pd.concat(li, axis=1)\n",
    "    "
   ]
  },
  {
   "cell_type": "code",
   "execution_count": null,
   "metadata": {},
   "outputs": [],
   "source": [
    "class ModelWrapper():\n",
    "    def __init__(self, \n",
    "                 model,\n",
    "                 name,\n",
    "                 uses_eval_set=False,\n",
    "                 fit_params={}):\n",
    "        \n",
    "        self.model = model\n",
    "        self.name = name\n",
    "        \n",
    "        self.uses_eval_set = uses_eval_set\n",
    "        self.fit_params = fit_params # any extra params for the 'fit' function\n",
    "        \n",
    "#         self.valid_predictions = None # oof predictions on the valiation set\n",
    "#         self.test_predictions = None  # meta-features on the test set\n",
    "                \n",
    "    def fit(self, X, y, eval_set=None):\n",
    "        if self.uses_eval_set:\n",
    "            self.model.fit(X, y, eval_set=eval_set, **(self.fit_params))\n",
    "        else:\n",
    "            self.model.fit(X, y, **(self.fit_params)) \n",
    "        return self\n",
    "    \n",
    "\n",
    "    def predict(self, X):\n",
    "        return self.model.predict(X)\n",
    "        \n",
    "    def clone_me(self, random_state=None):\n",
    "        wrapper = ModelWrapper(model=clone(self.model), # clone from sklean.base\n",
    "                               name=self.name, \n",
    "                               uses_eval_set=self.uses_eval_set,\n",
    "                               fit_params=self.fit_params)\n",
    "        wrapper.name = self.name\n",
    "        if random_state is not None:\n",
    "            wrapper.set_random_state(random_state)\n",
    "        \n",
    "        return wrapper\n",
    "    \n",
    "    def set_random_state(self, random_state):\n",
    "        if hasattr(self.model, 'random_state'):\n",
    "            self.model.random_state = random_state\n",
    "        elif hasattr(self.model, 'random_seed'):\n",
    "            self.model.random_seed = random_state\n",
    "            \n",
    "    def get_random_state(self):\n",
    "        if hasattr(self.model, 'random_state'):\n",
    "            return self.model.random_state \n",
    "        elif hasattr(self.model, 'random_seed'):\n",
    "            return self.model.random_seed\n",
    "    \n",
    "        "
   ]
  },
  {
   "cell_type": "code",
   "execution_count": 442,
   "metadata": {},
   "outputs": [],
   "source": [
    "class ModelTrainer():\n",
    "    def __init__(self,\n",
    "                  model: ModelWrapper):\n",
    "        \n",
    "        self.model = model\n",
    "        \n",
    "    def calc_oofs(self,\n",
    "                  X, y,\n",
    "                  X_test,\n",
    "                  transformer,\n",
    "                  folds,\n",
    "                  verbose=False,\n",
    "                  use_different_random_states=True):\n",
    "        \"\"\"\n",
    "        Return the oofs predictions and the meta features (test predictions)\n",
    "        \"\"\"\n",
    "        \n",
    "        test_predictions = 0\n",
    "        oof_predictions = np.zeros_like(np.array(y))\n",
    "        valid_mean_score = [] \n",
    "                \n",
    "        for fold, (train_ix, valid_ix) in enumerate(folds.split(X)):\n",
    "            X_train, X_valid = X[train_ix], X[valid_ix]\n",
    "            y_train, y_valid = y[train_ix], y[valid_ix]\n",
    "            \n",
    "            # transform input\n",
    "            X_train = transformer.fit_transform(X_train)\n",
    "            X_valid = transformer.transform(X_valid)\n",
    "            \n",
    "            \n",
    "            # check if we train each fold on differently initialized clone\n",
    "            if use_different_random_states:\n",
    "                model = self.model.clone_me(random_state=fold)\n",
    "            else:\n",
    "                model = self.model.clone_me()\n",
    "            \n",
    "            # fit the model\n",
    "            if model.uses_eval_set:\n",
    "                model.fit(X_train, y_train, eval_set=[(X_train, y_train), (X_valid, y_valid)])\n",
    "            else:\n",
    "                model.fit(X_train, y_train)\n",
    "                \n",
    "            ## predictions\n",
    "            # on the validation set\n",
    "            valid_predications = model.predict(X_valid)\n",
    "            score = mean_squared_error(valid_predications, y_valid, squared=False)\n",
    "            valid_mean_score.append(score)\n",
    "            oof_predictions[valid_ix] = valid_predications\n",
    "            \n",
    "            # on the test set\n",
    "            # transform it first on a copy\n",
    "            X_test_ = transformer.transform(X_test)\n",
    "            test_predictions += model.predict(X_test_) / folds.n_splits\n",
    "            \n",
    "            if verbose:\n",
    "                print('Fold:{} score:{:.4f}'.format(fold + 1, score))\n",
    "        \n",
    "        if verbose:\n",
    "            print('Average score:{:.4f} ({:.4f})'.format(np.mean(valid_mean_score), np.std(valid_mean_score) ))\n",
    "    \n",
    "        return oof_predictions, test_predictions"
   ]
  },
  {
   "cell_type": "code",
   "execution_count": 449,
   "metadata": {},
   "outputs": [],
   "source": [
    "\n",
    "class Experiment():\n",
    "    def __init__(self,\n",
    "                 title='Experiment',\n",
    "                 n_folds=5,\n",
    "                 random_state=42,\n",
    "                 shuffle=True,\n",
    "                 use_different_random_states=True,\n",
    "                 main_folder=os.getcwd()):\n",
    "        \n",
    "        self.title = title\n",
    "        self.n_folds = n_folds\n",
    "        self.random_state = random_state\n",
    "        self.shuffle = shuffle\n",
    "        self.use_different_random_states = use_different_random_states\n",
    "        self.main_folder = main_folder\n",
    "        \n",
    "        \n",
    "\n",
    "    def create(self, use_folder=None, resume=False):\n",
    "        \n",
    "        # create folds\n",
    "        self.folds = KFold(n_splits=self.n_folds, \n",
    "                           random_state=self.random_state,\n",
    "                           shuffle=self.shuffle)\n",
    "        \n",
    "        \n",
    "        # create time stamp and subfolder with the current time stamp\n",
    "        if use_folder is not None:\n",
    "            self.output_folder = use_folder \n",
    "        else:\n",
    "            time_stamp = datetime.now().isoformat(' ', 'seconds')\n",
    "            self.output_folder = self.title + ' ' + time_stamp.replace(':', '-')\n",
    "            Path(f'{self.main_folder}{os.sep}{self.output_folder}').mkdir(parents=True, exist_ok=True)\n",
    "        \n",
    "     \n",
    "    def to_dict(self):\n",
    "        \n",
    "        return dict({\"title\": self.title,\n",
    "                    \"n_folds\": self.n_folds,\n",
    "                    \"random_state\": self.random_state,\n",
    "                    \"use_different_random_states\": self.use_different_random_states,\n",
    "                    \"main_folder\": self.main_folder,\n",
    "                    \"output_folder\": self.output_folder})\n",
    "        \n",
    "    def __str__(self):\n",
    "        \n",
    "        return str(self.to_dict())"
   ]
  },
  {
   "cell_type": "code",
   "execution_count": null,
   "metadata": {},
   "outputs": [],
   "source": [
    "class LevelTrainer():\n",
    "    \n",
    "    def __init__(self,\n",
    "                 experiment, # Experiment,\n",
    "                 models,      # ModelWrapper\n",
    "                 transformer, # data transformer\n",
    "                 level_num=1):\n",
    "        \n",
    "        self.level_num = level_num\n",
    "        self.experiment = experiment\n",
    "        self.models = models\n",
    "        \n",
    "    def train(self, X_df, y_df, X_test_df, verbose=True):\n",
    "        \n",
    "        assert models is not None\n",
    "        \n",
    "\n",
    "        for model_wrapper in self.models:\n",
    "            \n",
    "            if verbose:\n",
    "                print('-'*3)\n",
    "                print(f'Model:{model_wrapper.name}')\n",
    "                print('-'*3)\n",
    "                \n",
    "            trainer = ModelTrainer(model_wrapper)\n",
    "            oof_preds, test_preds = trainer.calc_oofs(X.values, y.values,\n",
    "                                                      X_test.values,\n",
    "                                                      transformer=self.transformer,\n",
    "                                                      folds=self.experiment.folds,\n",
    "                                                      verbose=verbose,\n",
    "                                                      use_different_random_states=self.experiment.use_different_random_states)\n",
    "            # store predictions\n",
    "            store_oof_predictions(model_name=model_wrapper.name,\n",
    "                                  valid_predictions=oof_preds,\n",
    "                                  test_predictions=test_preds,\n",
    "                                  X_train=X_df,\n",
    "                                  X_test=X_test_df,\n",
    "                                  stacking_level=self.level_num, \n",
    "                                  n_folds=self.experiment.n_folds, \n",
    "                                  random_state=model_wrapper.get_random_state(),\n",
    "                                  output_folder=f'{self.experiment.main_folder}{os.sep}{self.experiment.output_folder}')\n",
    "            if verbose:\n",
    "                print('-'*3)"
   ]
  },
  {
   "cell_type": "markdown",
   "metadata": {},
   "source": [
    "### ML Models"
   ]
  },
  {
   "cell_type": "markdown",
   "metadata": {},
   "source": [
    "#### Hyperparamater ranges\n",
    "common ranges (to be added)"
   ]
  },
  {
   "cell_type": "markdown",
   "metadata": {},
   "source": [
    "#### Hyperparameters: these should go to a JSON file"
   ]
  },
  {
   "cell_type": "code",
   "execution_count": null,
   "metadata": {},
   "outputs": [],
   "source": [
    "# extra-tree\n",
    "et_params = {\n",
    "    'n_jobs': -1,\n",
    "    'n_estimators': 100,\n",
    "    'max_features': 0.5,\n",
    "    'max_depth': 12,\n",
    "    'min_samples_leaf': 2,\n",
    "}\n",
    "\n",
    "# random forest\n",
    "rf_params = {\n",
    "    'n_jobs': -1,\n",
    "    'n_estimators': 100,\n",
    "    'max_features': 0.2,\n",
    "    'max_depth': 8,\n",
    "    'min_samples_leaf': 2,\n",
    "}\n",
    "\n",
    "# xgboost\n",
    "# xgb_params = {'n_estimators': 10000,\n",
    "#               'learning_rate': 0.35,\n",
    "#               'subsample': 0.926,\n",
    "#               'colsample_bytree': 0.84,\n",
    "#               'max_depth': 2,\n",
    "#               'booster': 'gbtree', \n",
    "#               'reg_lambda': 35.1,\n",
    "#               'reg_alpha': 34.9,\n",
    "#               'random_state': 42,\n",
    "#               'n_jobs': -1}\n",
    "\n",
    "# Using optuna but still rough\n",
    "xgb_params = {'max_depth': 5,\n",
    "             'learning_rate': 0.021252439960137114,\n",
    "             'n_estimators': 13500,\n",
    "             'subsample': 0.62,\n",
    "             'booster': 'gbtree',\n",
    "             'colsample_bytree': 0.1,\n",
    "             'reg_lambda': 0.1584605320779582,\n",
    "             'reg_alpha': 15.715145781076245,\n",
    "             'n_jobs': -1}\n",
    "\n",
    "# catboost\n",
    "catb_params = {'iterations': 6800,\n",
    "              'learning_rate': 0.93,\n",
    "              'loss_function': \"RMSE\",\n",
    "              'random_state': 42,\n",
    "              'verbose': 0,\n",
    "              'thread_count': 4,\n",
    "              'depth': 1,\n",
    "              'l2_leaf_reg': 3.28}\n",
    "\n",
    "SEED = 7770777\n",
    "params_lgb = {\"n_estimators\": 10000,   \n",
    "            \"boosting_type\": \"gbdt\",\n",
    "            \"objective\": \"regression\",\n",
    "            \"metric\": \"rmse\",\n",
    "            \"learning_rate\": 0.007899156646724397,\n",
    "            \"num_leaves\": 77,\n",
    "            \"max_depth\": 77,\n",
    "            \"feature_fraction\": 0.2256038826485174,\n",
    "            \"bagging_fraction\": 0.7705303688019942,\n",
    "            \"min_child_samples\": 290,\n",
    "            \"reg_alpha\": 9.562925363678952,\n",
    "            \"reg_lambda\": 9.355810045480153,\n",
    "            \"max_bin\": 772,\n",
    "            \"min_data_per_group\": 177,\n",
    "            \"bagging_freq\": 1,\n",
    "            \"cat_smooth\": 96,\n",
    "            \"cat_l2\": 17,\n",
    "            \"verbosity\": -1,\n",
    "            \"bagging_seed\": SEED,\n",
    "            \"feature_fraction_seed\": SEED,\n",
    "            \"verbose_eval\":1000,\n",
    "            \"seed\": SEED,\n",
    "            \"n_jobs\":-1}\n"
   ]
  },
  {
   "cell_type": "code",
   "execution_count": null,
   "metadata": {},
   "outputs": [],
   "source": [
    "# external hyperparamaters\n",
    "\n",
    "### fit function hyperparamaters\n",
    "# some models require special paramaters like early stoping in xgboost and lgbm\n",
    "\n",
    "# xgboost\n",
    "xgb_fit_params = {'early_stopping_rounds': 200,\n",
    "                  'verbose': False}\n",
    "\n",
    "# lgbm\n",
    "lgb_fit_params = {'early_stopping_rounds': 200,\n",
    "                  'verbose': False}\n",
    "\n",
    "### application/implementation paramaters\n",
    "# These paramaters are implementation dependent \n",
    "\n",
    "# xgboost\n",
    "xgb_app_params = {'uses_eval_set':True}\n",
    "\n",
    "# lgbm\n",
    "lgb_app_params = {'uses_eval_set':True}"
   ]
  },
  {
   "cell_type": "markdown",
   "metadata": {},
   "source": [
    "#### Models"
   ]
  },
  {
   "cell_type": "code",
   "execution_count": null,
   "metadata": {},
   "outputs": [],
   "source": [
    "# lasso\n",
    "lasso = Lasso(alpha =0.00005)\n",
    "\n",
    "# Elastic net\n",
    "e_net = ElasticNet(alpha=0.00005, l1_ratio=.9)\n",
    "\n",
    "# KNeighborsRegressor\n",
    "knn =  KNeighborsRegressor()\n",
    "\n",
    "# extra-tree\n",
    "extree = ExtraTreesRegressor(**et_params)\n",
    "\n",
    "# random forest\n",
    "rfr = RandomForestRegressor(**rf_params)\n",
    "\n",
    "# xgboost\n",
    "xgb =  XGBRegressor(**xgb_params)\n",
    "\n",
    "#catboost\n",
    "catb = CatBoostRegressor(**catb_params)\n",
    "\n",
    "#lgbm\n",
    "lgb = LGBMRegressor(**params_lgb)\n"
   ]
  },
  {
   "cell_type": "code",
   "execution_count": 444,
   "metadata": {},
   "outputs": [],
   "source": [
    "# compile all settings in one dictionary, \n",
    "# we can store/load it then to a JSON file\n",
    "models = {'Lasso': {\"model\":lasso, \"fit_kwargs\":None, \"app_params\": None},\n",
    "          'ElasticNet': {\"model\": e_net, \"fit_kwargs\":None, \"app_params\": None},\n",
    "          'ExtraTreesRegressor': {\"model\": extree, \"fit_kwargs\":None, \"app_params\": None},\n",
    "          'RandomForestRegressor': {\"model\": rfr, \"fit_kwargs\":None, \"app_params\": None},\n",
    "          'XGBRegressor': {\"model\": xgb, \"fit_kwargs\":xgb_fit_params, \"app_params\": xgb_app_params},\n",
    "          'CatBoostRegressor': {\"model\": catb, \"fit_kwargs\":None, \"app_params\": None},\n",
    "          'LGBMRegressor': {\"model\": lgb, \"fit_kwargs\":lgb_fit_params, \"app_params\": lgb_app_params}\n",
    "        }"
   ]
  },
  {
   "cell_type": "code",
   "execution_count": 445,
   "metadata": {},
   "outputs": [
    {
     "data": {
      "text/plain": [
       "dict_keys(['Lasso', 'ElasticNet', 'ExtraTreesRegressor', 'RandomForestRegressor', 'XGBRegressor', 'CatBoostRegressor', 'LGBMRegressor'])"
      ]
     },
     "execution_count": 445,
     "metadata": {},
     "output_type": "execute_result"
    }
   ],
   "source": [
    "models.keys()"
   ]
  },
  {
   "cell_type": "markdown",
   "metadata": {},
   "source": [
    "### Stacking"
   ]
  },
  {
   "cell_type": "markdown",
   "metadata": {},
   "source": [
    "Stacking with two levels:\n",
    "we need two things:\n",
    "\n",
    "oof predictions and test results.\n",
    "- train level 1 models and collect their oof predictions \n",
    "- use oof predictions in another model and predict the final target.\n",
    "\n",
    "- there are some variations to this simple procedure: see \n",
    " - https://mlwave.com/kaggle-ensembling-guide/\n",
    " - https://www.kaggle.com/getting-started/18153#post103381\n",
    " \n",
    "- one approach would be to:\n",
    "    - train N models in the first level and get their oof predictions\n",
    "    - train a model on the whole train set and get it's predictions\n",
    "    "
   ]
  },
  {
   "cell_type": "code",
   "execution_count": 446,
   "metadata": {},
   "outputs": [
    {
     "name": "stdout",
     "output_type": "stream",
     "text": [
      "{'title': 'ML 30 days', 'n_folds': 5, 'random_state': 42, 'use_different_random_states': True, 'main_folder': '/home/ftam/Documents/data science/kaggel_git/data_science/Experiments', 'output_folder': 'ML 30 days 2021-08-23 17-02-31'}\n"
     ]
    }
   ],
   "source": [
    "# settings: experiment and stacking architecutre\n",
    "\n",
    "\n",
    "\n",
    "level_1_models = ['CatBoostRegressor', 'LGBMRegressor']\n",
    "# level_1_models = ['all'] # to select all models\n",
    "\n",
    "output_path = os.getcwd()\n",
    "\n",
    "ml30_experiment = Experiment(title='ML 30 days',\n",
    "                        n_folds=5,\n",
    "                        random_state=42,\n",
    "                        shuffle=True,\n",
    "                        use_different_random_states=True,\n",
    "                        main_folder=f'{output_path}{os.sep}Experiments')\n",
    "\n",
    "ml30_experiment.create(use_folder='ML 30 days 2021-08-23 17-02-31', resume=True)\n",
    "\n",
    "print(ml30_experiment)\n",
    "\n",
    "stack = { 'level_1_models': level_1_models, 'meta_model': 'XGBRegressor'}\n",
    "\n",
    "\n",
    "# if level_1_models is set to 'all' use the models\n",
    "if stack['level_1_models'][0].lower() == 'all':\n",
    "    level_1_models_names = models.keys()\n",
    "else: \n",
    "    level_1_models_names = stack['level_1_models']"
   ]
  },
  {
   "cell_type": "code",
   "execution_count": 447,
   "metadata": {},
   "outputs": [],
   "source": [
    "# main procedure\n",
    "\n",
    "# create models\n",
    "model_wrappers = []\n",
    "\n",
    "for model_name in level_1_models_names:\n",
    "    \n",
    "    # get paramaters  \n",
    "    model = models[model_name]\n",
    "    fit_kwargs = models[model_name]['fit_kwargs']\n",
    "    app_params = models[model_name]['app_params']\n",
    "    \n",
    "    model_wrapper = ModelWrapper(model=model['model'], name=model_name)\n",
    "    if fit_kwargs is not None:\n",
    "        model_wrapper.fit_params = fit_kwargs\n",
    "    if app_params is not None:\n",
    "        model_wrapper.uses_eval_set = app_params['uses_eval_set']\n",
    "    model_wrappers.append(model_wrapper)\n"
   ]
  },
  {
   "cell_type": "code",
   "execution_count": 448,
   "metadata": {
    "scrolled": true
   },
   "outputs": [
    {
     "name": "stdout",
     "output_type": "stream",
     "text": [
      "---\n",
      "Model:CatBoostRegressor\n",
      "---\n",
      "Fold:1 score:0.7176\n",
      "Fold:2 score:0.7174\n",
      "Fold:3 score:0.7189\n",
      "Fold:4 score:0.7193\n",
      "Fold:5 score:0.7177\n",
      "Average score:0.7182 (0.0008)\n",
      "---\n",
      "---\n",
      "Model:LGBMRegressor\n",
      "---\n",
      "Fold:1 score:0.7169\n",
      "Fold:2 score:0.7169\n",
      "Fold:3 score:0.7187\n",
      "Fold:4 score:0.7185\n",
      "Fold:5 score:0.7172\n",
      "Average score:0.7176 (0.0008)\n",
      "---\n"
     ]
    }
   ],
   "source": [
    "# train the levels\n",
    "ml30_transformer = ML30Transformer(cont_columns=X.columns.get_indexer(cont_cols))\n",
    "\n",
    "level_trainer = LevelTrainer(experiment=ml30_experiment, \n",
    "                             models=model_wrappers, \n",
    "                             transformer=ml30_transformer)\n",
    "\n",
    "level_trainer.train(X_df=X, y_df=y, X_test_df=X_test)"
   ]
  },
  {
   "cell_type": "code",
   "execution_count": 499,
   "metadata": {
    "code_folding": []
   },
   "outputs": [
    {
     "name": "stdout",
     "output_type": "stream",
     "text": [
      "ExtraTreesRegressor_5_valid.csv\n",
      "XGBRegressor_5_valid.csv\n",
      "LGBMRegressor_5_valid.csv\n",
      "Lasso_5_valid.csv\n",
      "RandomForestRegressor_5_valid.csv\n",
      "ElasticNet_5_valid.csv\n",
      "CatBoostRegressor_5_valid.csv\n",
      "RandomForestRegressor_5_test.csv\n",
      "XGBRegressor_5_test.csv\n",
      "CatBoostRegressor_5_test.csv\n",
      "LGBMRegressor_5_test.csv\n",
      "Lasso_5_test.csv\n",
      "ElasticNet_5_test.csv\n",
      "ExtraTreesRegressor_5_test.csv\n"
     ]
    },
    {
     "data": {
      "text/html": [
       "<div>\n",
       "<style scoped>\n",
       "    .dataframe tbody tr th:only-of-type {\n",
       "        vertical-align: middle;\n",
       "    }\n",
       "\n",
       "    .dataframe tbody tr th {\n",
       "        vertical-align: top;\n",
       "    }\n",
       "\n",
       "    .dataframe thead th {\n",
       "        text-align: right;\n",
       "    }\n",
       "</style>\n",
       "<table border=\"1\" class=\"dataframe\">\n",
       "  <thead>\n",
       "    <tr style=\"text-align: right;\">\n",
       "      <th></th>\n",
       "      <th>ExtraTreesRegressor</th>\n",
       "      <th>LGBMRegressor</th>\n",
       "      <th>ElasticNet</th>\n",
       "      <th>CatBoostRegressor</th>\n",
       "    </tr>\n",
       "    <tr>\n",
       "      <th>Id</th>\n",
       "      <th></th>\n",
       "      <th></th>\n",
       "      <th></th>\n",
       "      <th></th>\n",
       "    </tr>\n",
       "  </thead>\n",
       "  <tbody>\n",
       "    <tr>\n",
       "      <th>1</th>\n",
       "      <td>8.229007</td>\n",
       "      <td>8.432929</td>\n",
       "      <td>8.183710</td>\n",
       "      <td>8.483769</td>\n",
       "    </tr>\n",
       "    <tr>\n",
       "      <th>2</th>\n",
       "      <td>8.245625</td>\n",
       "      <td>8.370355</td>\n",
       "      <td>8.477100</td>\n",
       "      <td>8.342437</td>\n",
       "    </tr>\n",
       "    <tr>\n",
       "      <th>3</th>\n",
       "      <td>8.147453</td>\n",
       "      <td>8.172136</td>\n",
       "      <td>8.180759</td>\n",
       "      <td>8.251786</td>\n",
       "    </tr>\n",
       "    <tr>\n",
       "      <th>4</th>\n",
       "      <td>8.290102</td>\n",
       "      <td>8.362367</td>\n",
       "      <td>8.272037</td>\n",
       "      <td>8.388899</td>\n",
       "    </tr>\n",
       "    <tr>\n",
       "      <th>6</th>\n",
       "      <td>8.252074</td>\n",
       "      <td>8.205220</td>\n",
       "      <td>8.317998</td>\n",
       "      <td>8.275428</td>\n",
       "    </tr>\n",
       "  </tbody>\n",
       "</table>\n",
       "</div>"
      ],
      "text/plain": [
       "    ExtraTreesRegressor  LGBMRegressor  ElasticNet  CatBoostRegressor\n",
       "Id                                                                   \n",
       "1              8.229007       8.432929    8.183710           8.483769\n",
       "2              8.245625       8.370355    8.477100           8.342437\n",
       "3              8.147453       8.172136    8.180759           8.251786\n",
       "4              8.290102       8.362367    8.272037           8.388899\n",
       "6              8.252074       8.205220    8.317998           8.275428"
      ]
     },
     "execution_count": 499,
     "metadata": {},
     "output_type": "execute_result"
    }
   ],
   "source": [
    "                         \n",
    "# required results                            \n",
    "fold_id = 5\n",
    "folder ='Experiments/ML 30 days 2021-08-23 17-02-31'\n",
    "                            \n",
    "level_1_models = [\n",
    "                  'ExtraTreesRegressor',\n",
    "                  'LGBMRegressor',\n",
    "                  'CatBoostRegressor',\n",
    "                  'ElasticNet'\n",
    "                  ]\n",
    "\n",
    "meta_regressor = 'CatBoostRegressor'\n",
    "\n",
    "\n",
    "\n",
    "# new features \n",
    "X_train_ = read_oof_predictions(pattern=f\"{folder}{os.sep}*{fold_id}_valid.csv\",\n",
    "                           models_names=level_1_models)\n",
    "X_test_ = read_oof_predictions(pattern=f\"{folder}{os.sep}*{fold_id}_test.csv\",\n",
    "                          models_names=level_1_models)\n",
    "\n",
    "X_train_.head()"
   ]
  },
  {
   "cell_type": "code",
   "execution_count": 500,
   "metadata": {},
   "outputs": [
    {
     "data": {
      "text/html": [
       "<div>\n",
       "<style scoped>\n",
       "    .dataframe tbody tr th:only-of-type {\n",
       "        vertical-align: middle;\n",
       "    }\n",
       "\n",
       "    .dataframe tbody tr th {\n",
       "        vertical-align: top;\n",
       "    }\n",
       "\n",
       "    .dataframe thead th {\n",
       "        text-align: right;\n",
       "    }\n",
       "</style>\n",
       "<table border=\"1\" class=\"dataframe\">\n",
       "  <thead>\n",
       "    <tr style=\"text-align: right;\">\n",
       "      <th></th>\n",
       "      <th>ExtraTreesRegressor</th>\n",
       "      <th>LGBMRegressor</th>\n",
       "      <th>ElasticNet</th>\n",
       "      <th>CatBoostRegressor</th>\n",
       "    </tr>\n",
       "  </thead>\n",
       "  <tbody>\n",
       "    <tr>\n",
       "      <th>ExtraTreesRegressor</th>\n",
       "      <td>1.000000</td>\n",
       "      <td>0.659918</td>\n",
       "      <td>0.745362</td>\n",
       "      <td>0.635145</td>\n",
       "    </tr>\n",
       "    <tr>\n",
       "      <th>LGBMRegressor</th>\n",
       "      <td>0.659918</td>\n",
       "      <td>1.000000</td>\n",
       "      <td>0.515123</td>\n",
       "      <td>0.954623</td>\n",
       "    </tr>\n",
       "    <tr>\n",
       "      <th>ElasticNet</th>\n",
       "      <td>0.745362</td>\n",
       "      <td>0.515123</td>\n",
       "      <td>1.000000</td>\n",
       "      <td>0.514060</td>\n",
       "    </tr>\n",
       "    <tr>\n",
       "      <th>CatBoostRegressor</th>\n",
       "      <td>0.635145</td>\n",
       "      <td>0.954623</td>\n",
       "      <td>0.514060</td>\n",
       "      <td>1.000000</td>\n",
       "    </tr>\n",
       "  </tbody>\n",
       "</table>\n",
       "</div>"
      ],
      "text/plain": [
       "                     ExtraTreesRegressor  LGBMRegressor  ElasticNet  \\\n",
       "ExtraTreesRegressor             1.000000       0.659918    0.745362   \n",
       "LGBMRegressor                   0.659918       1.000000    0.515123   \n",
       "ElasticNet                      0.745362       0.515123    1.000000   \n",
       "CatBoostRegressor               0.635145       0.954623    0.514060   \n",
       "\n",
       "                     CatBoostRegressor  \n",
       "ExtraTreesRegressor           0.635145  \n",
       "LGBMRegressor                 0.954623  \n",
       "ElasticNet                    0.514060  \n",
       "CatBoostRegressor             1.000000  "
      ]
     },
     "execution_count": 500,
     "metadata": {},
     "output_type": "execute_result"
    }
   ],
   "source": [
    "X_train_.corr()"
   ]
  },
  {
   "cell_type": "code",
   "execution_count": null,
   "metadata": {},
   "outputs": [],
   "source": [
    "meta_model = ModelWrapper(xgb, name='Meta')\n",
    "model_trainer = ModelTrainer(meta_model)\n",
    "\n",
    "meta_valid_results, meta_test_results = model_trainer.calc_oofs(X_train_.values, \n",
    "                                                                y.values, \n",
    "                                                                X_test_.values, \n",
    "                                                                experiment.folds, \n",
    "                                                                verbose=True,\n",
    "                                                                use_different_random_states=True)"
   ]
  },
  {
   "cell_type": "code",
   "execution_count": null,
   "metadata": {},
   "outputs": [],
   "source": [
    "#results = np.exp((np.log(lasso_test_results) + np.log(xgb_test_results) + np.log(lgb_test_results) + np.log(catb_test_results)) / 4 )\n",
    "results = np.exp(np.sum(np.log(np.column_stack(test_stack)) / 4, axis=1))\n",
    "#mean_squared_error(y, y3, squared=False)"
   ]
  },
  {
   "cell_type": "code",
   "execution_count": 493,
   "metadata": {},
   "outputs": [],
   "source": [
    "predictions = meta_test_results"
   ]
  },
  {
   "cell_type": "markdown",
   "metadata": {},
   "source": [
    "<hr>"
   ]
  },
  {
   "cell_type": "markdown",
   "metadata": {},
   "source": [
    "In the code cell above, we set `squared=False` to get the root mean squared error (RMSE) on the validation data.\n",
    "\n",
    "# Step 5: Submit to the competition\n",
    "\n",
    "We'll begin by using the trained model to generate predictions, which we'll save to a CSV file."
   ]
  },
  {
   "cell_type": "code",
   "execution_count": 494,
   "metadata": {},
   "outputs": [
    {
     "data": {
      "text/plain": [
       "(200000,)"
      ]
     },
     "execution_count": 494,
     "metadata": {},
     "output_type": "execute_result"
    }
   ],
   "source": [
    "predictions.shape"
   ]
  },
  {
   "cell_type": "code",
   "execution_count": 495,
   "metadata": {},
   "outputs": [
    {
     "data": {
      "text/plain": [
       "Int64Index([     0,      5,     15,     16,     17,     19,     20,     21,\n",
       "                23,     29,\n",
       "            ...\n",
       "            499981, 499982, 499983, 499984, 499986, 499987, 499990, 499991,\n",
       "            499994, 499995],\n",
       "           dtype='int64', name='id', length=200000)"
      ]
     },
     "execution_count": 495,
     "metadata": {},
     "output_type": "execute_result"
    }
   ],
   "source": [
    "X_test.index"
   ]
  },
  {
   "cell_type": "code",
   "execution_count": 496,
   "metadata": {
    "execution": {
     "iopub.status.busy": "2021-08-16T22:54:17.068352Z",
     "iopub.status.idle": "2021-08-16T22:54:17.068911Z"
    }
   },
   "outputs": [],
   "source": [
    "# Save the predictions to a CSV file\n",
    "output = pd.DataFrame({'Id': X_test.index,\n",
    "                       'target': predictions})\n",
    "output.to_csv('submission.csv', index=False)"
   ]
  },
  {
   "cell_type": "code",
   "execution_count": 497,
   "metadata": {
    "scrolled": false
   },
   "outputs": [
    {
     "data": {
      "text/html": [
       "<div>\n",
       "<style scoped>\n",
       "    .dataframe tbody tr th:only-of-type {\n",
       "        vertical-align: middle;\n",
       "    }\n",
       "\n",
       "    .dataframe tbody tr th {\n",
       "        vertical-align: top;\n",
       "    }\n",
       "\n",
       "    .dataframe thead th {\n",
       "        text-align: right;\n",
       "    }\n",
       "</style>\n",
       "<table border=\"1\" class=\"dataframe\">\n",
       "  <thead>\n",
       "    <tr style=\"text-align: right;\">\n",
       "      <th></th>\n",
       "      <th>Id</th>\n",
       "      <th>target</th>\n",
       "    </tr>\n",
       "  </thead>\n",
       "  <tbody>\n",
       "    <tr>\n",
       "      <th>0</th>\n",
       "      <td>0</td>\n",
       "      <td>8.088670</td>\n",
       "    </tr>\n",
       "    <tr>\n",
       "      <th>1</th>\n",
       "      <td>5</td>\n",
       "      <td>8.378148</td>\n",
       "    </tr>\n",
       "    <tr>\n",
       "      <th>2</th>\n",
       "      <td>15</td>\n",
       "      <td>8.420147</td>\n",
       "    </tr>\n",
       "    <tr>\n",
       "      <th>3</th>\n",
       "      <td>16</td>\n",
       "      <td>8.425104</td>\n",
       "    </tr>\n",
       "    <tr>\n",
       "      <th>4</th>\n",
       "      <td>17</td>\n",
       "      <td>8.172484</td>\n",
       "    </tr>\n",
       "    <tr>\n",
       "      <th>5</th>\n",
       "      <td>19</td>\n",
       "      <td>8.275748</td>\n",
       "    </tr>\n",
       "    <tr>\n",
       "      <th>6</th>\n",
       "      <td>20</td>\n",
       "      <td>8.395084</td>\n",
       "    </tr>\n",
       "    <tr>\n",
       "      <th>7</th>\n",
       "      <td>21</td>\n",
       "      <td>7.828260</td>\n",
       "    </tr>\n",
       "    <tr>\n",
       "      <th>8</th>\n",
       "      <td>23</td>\n",
       "      <td>8.129872</td>\n",
       "    </tr>\n",
       "    <tr>\n",
       "      <th>9</th>\n",
       "      <td>29</td>\n",
       "      <td>8.330977</td>\n",
       "    </tr>\n",
       "  </tbody>\n",
       "</table>\n",
       "</div>"
      ],
      "text/plain": [
       "   Id    target\n",
       "0   0  8.088670\n",
       "1   5  8.378148\n",
       "2  15  8.420147\n",
       "3  16  8.425104\n",
       "4  17  8.172484\n",
       "5  19  8.275748\n",
       "6  20  8.395084\n",
       "7  21  7.828260\n",
       "8  23  8.129872\n",
       "9  29  8.330977"
      ]
     },
     "execution_count": 497,
     "metadata": {},
     "output_type": "execute_result"
    }
   ],
   "source": [
    "output.head(10)"
   ]
  },
  {
   "cell_type": "code",
   "execution_count": 498,
   "metadata": {
    "scrolled": false
   },
   "outputs": [
    {
     "data": {
      "text/html": [
       "<div>\n",
       "<style scoped>\n",
       "    .dataframe tbody tr th:only-of-type {\n",
       "        vertical-align: middle;\n",
       "    }\n",
       "\n",
       "    .dataframe tbody tr th {\n",
       "        vertical-align: top;\n",
       "    }\n",
       "\n",
       "    .dataframe thead th {\n",
       "        text-align: right;\n",
       "    }\n",
       "</style>\n",
       "<table border=\"1\" class=\"dataframe\">\n",
       "  <thead>\n",
       "    <tr style=\"text-align: right;\">\n",
       "      <th></th>\n",
       "      <th>Id</th>\n",
       "      <th>target</th>\n",
       "    </tr>\n",
       "  </thead>\n",
       "  <tbody>\n",
       "    <tr>\n",
       "      <th>0</th>\n",
       "      <td>0</td>\n",
       "      <td>8.088670</td>\n",
       "    </tr>\n",
       "    <tr>\n",
       "      <th>1</th>\n",
       "      <td>5</td>\n",
       "      <td>8.378148</td>\n",
       "    </tr>\n",
       "    <tr>\n",
       "      <th>2</th>\n",
       "      <td>15</td>\n",
       "      <td>8.420147</td>\n",
       "    </tr>\n",
       "    <tr>\n",
       "      <th>3</th>\n",
       "      <td>16</td>\n",
       "      <td>8.425104</td>\n",
       "    </tr>\n",
       "    <tr>\n",
       "      <th>4</th>\n",
       "      <td>17</td>\n",
       "      <td>8.172484</td>\n",
       "    </tr>\n",
       "    <tr>\n",
       "      <th>5</th>\n",
       "      <td>19</td>\n",
       "      <td>8.275748</td>\n",
       "    </tr>\n",
       "    <tr>\n",
       "      <th>6</th>\n",
       "      <td>20</td>\n",
       "      <td>8.395084</td>\n",
       "    </tr>\n",
       "    <tr>\n",
       "      <th>7</th>\n",
       "      <td>21</td>\n",
       "      <td>7.828260</td>\n",
       "    </tr>\n",
       "    <tr>\n",
       "      <th>8</th>\n",
       "      <td>23</td>\n",
       "      <td>8.129872</td>\n",
       "    </tr>\n",
       "    <tr>\n",
       "      <th>9</th>\n",
       "      <td>29</td>\n",
       "      <td>8.330977</td>\n",
       "    </tr>\n",
       "  </tbody>\n",
       "</table>\n",
       "</div>"
      ],
      "text/plain": [
       "   Id    target\n",
       "0   0  8.088670\n",
       "1   5  8.378148\n",
       "2  15  8.420147\n",
       "3  16  8.425104\n",
       "4  17  8.172484\n",
       "5  19  8.275748\n",
       "6  20  8.395084\n",
       "7  21  7.828260\n",
       "8  23  8.129872\n",
       "9  29  8.330977"
      ]
     },
     "execution_count": 498,
     "metadata": {},
     "output_type": "execute_result"
    }
   ],
   "source": [
    "output.head(10)"
   ]
  },
  {
   "cell_type": "code",
   "execution_count": 180,
   "metadata": {},
   "outputs": [],
   "source": [
    "X = np.array([[1, 2], [3, 4], [1, 2], [3, 4], [1, 2], [3, 4], [1, 2], [3, 4],[1, 2], [3, 4]])\n",
    "\n",
    "y = np.array([1, 2, 3, 4])\n",
    "\n",
    "kfolds = KFold(n_splits=4, \n",
    "                  shuffle=True,\n",
    "                  random_state=0)\n",
    "\n",
    "splits = kfolds.split(X)"
   ]
  },
  {
   "cell_type": "code",
   "execution_count": 181,
   "metadata": {},
   "outputs": [
    {
     "data": {
      "text/plain": [
       "[{'train_indexes': array([0, 1, 3, 5, 6, 7, 9]),\n",
       "  'valid_indexes': array([2, 4, 8])},\n",
       " {'train_indexes': array([0, 2, 3, 4, 5, 7, 8]),\n",
       "  'valid_indexes': array([1, 6, 9])},\n",
       " {'train_indexes': array([0, 1, 2, 4, 5, 6, 8, 9]),\n",
       "  'valid_indexes': array([3, 7])},\n",
       " {'train_indexes': array([1, 2, 3, 4, 6, 7, 8, 9]),\n",
       "  'valid_indexes': array([0, 5])}]"
      ]
     },
     "execution_count": 181,
     "metadata": {},
     "output_type": "execute_result"
    }
   ],
   "source": [
    " [{'train_indexes': test_ix, 'valid_indexes': valid_ix} for (test_ix, valid_ix) in splits]"
   ]
  },
  {
   "cell_type": "code",
   "execution_count": 174,
   "metadata": {},
   "outputs": [
    {
     "data": {
      "text/plain": [
       "[]"
      ]
     },
     "execution_count": 174,
     "metadata": {},
     "output_type": "execute_result"
    }
   ],
   "source": [
    " [(test_ix,  valid_ix) for (test_ix, valid_ix) in splits]"
   ]
  },
  {
   "cell_type": "code",
   "execution_count": 183,
   "metadata": {},
   "outputs": [
    {
     "data": {
      "text/plain": [
       "True"
      ]
     },
     "execution_count": 183,
     "metadata": {},
     "output_type": "execute_result"
    }
   ],
   "source": [
    "list() == []"
   ]
  },
  {
   "cell_type": "code",
   "execution_count": 184,
   "metadata": {},
   "outputs": [
    {
     "ename": "NameError",
     "evalue": "name 'empty' is not defined",
     "output_type": "error",
     "traceback": [
      "\u001b[0;31m---------------------------------------------------------------------------\u001b[0m",
      "\u001b[0;31mNameError\u001b[0m                                 Traceback (most recent call last)",
      "\u001b[0;32m<ipython-input-184-927345c8757f>\u001b[0m in \u001b[0;36m<module>\u001b[0;34m\u001b[0m\n\u001b[0;32m----> 1\u001b[0;31m \u001b[0mempty\u001b[0m\u001b[0;34m(\u001b[0m\u001b[0;34m)\u001b[0m\u001b[0;34m\u001b[0m\u001b[0;34m\u001b[0m\u001b[0m\n\u001b[0m",
      "\u001b[0;31mNameError\u001b[0m: name 'empty' is not defined"
     ]
    }
   ],
   "source": []
  },
  {
   "cell_type": "code",
   "execution_count": 241,
   "metadata": {},
   "outputs": [
    {
     "ename": "TypeError",
     "evalue": "replace() argument 1 must be str, not tuple",
     "output_type": "error",
     "traceback": [
      "\u001b[0;31m---------------------------------------------------------------------------\u001b[0m",
      "\u001b[0;31mTypeError\u001b[0m                                 Traceback (most recent call last)",
      "\u001b[0;32m<ipython-input-241-7cc69fa5f392>\u001b[0m in \u001b[0;36m<module>\u001b[0;34m\u001b[0m\n\u001b[0;32m----> 1\u001b[0;31m \u001b[0mdatetime\u001b[0m\u001b[0;34m.\u001b[0m\u001b[0mnow\u001b[0m\u001b[0;34m(\u001b[0m\u001b[0;34m)\u001b[0m\u001b[0;34m.\u001b[0m\u001b[0misoformat\u001b[0m\u001b[0;34m(\u001b[0m\u001b[0;34m' '\u001b[0m\u001b[0;34m,\u001b[0m \u001b[0;34m'seconds'\u001b[0m\u001b[0;34m)\u001b[0m\u001b[0;34m.\u001b[0m\u001b[0mreplace\u001b[0m\u001b[0;34m(\u001b[0m\u001b[0;34m(\u001b[0m\u001b[0;34m':'\u001b[0m\u001b[0;34m,\u001b[0m \u001b[0;34m' '\u001b[0m\u001b[0;34m)\u001b[0m\u001b[0;34m,\u001b[0m \u001b[0;34m(\u001b[0m\u001b[0;34m'-'\u001b[0m\u001b[0;34m,\u001b[0m \u001b[0;34m'-'\u001b[0m\u001b[0;34m)\u001b[0m\u001b[0;34m)\u001b[0m\u001b[0;34m\u001b[0m\u001b[0;34m\u001b[0m\u001b[0m\n\u001b[0m",
      "\u001b[0;31mTypeError\u001b[0m: replace() argument 1 must be str, not tuple"
     ]
    }
   ],
   "source": [
    "datetime.now().isoformat(' ', 'seconds').replace(':', '-').replace(' ', '-')"
   ]
  },
  {
   "cell_type": "code",
   "execution_count": 242,
   "metadata": {},
   "outputs": [
    {
     "data": {
      "text/plain": [
       "'/home/ftam/Documents/data science/kaggel_git/data_science'"
      ]
     },
     "execution_count": 242,
     "metadata": {},
     "output_type": "execute_result"
    }
   ],
   "source": [
    "os.getcwd()"
   ]
  },
  {
   "cell_type": "code",
   "execution_count": null,
   "metadata": {},
   "outputs": [],
   "source": []
  }
 ],
 "metadata": {
  "kernelspec": {
   "display_name": "Python 3",
   "language": "python",
   "name": "python3"
  },
  "language_info": {
   "codemirror_mode": {
    "name": "ipython",
    "version": 3
   },
   "file_extension": ".py",
   "mimetype": "text/x-python",
   "name": "python",
   "nbconvert_exporter": "python",
   "pygments_lexer": "ipython3",
   "version": "3.8.5"
  }
 },
 "nbformat": 4,
 "nbformat_minor": 4
}
